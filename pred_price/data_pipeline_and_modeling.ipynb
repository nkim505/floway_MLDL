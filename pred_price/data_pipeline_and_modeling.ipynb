{
  "cells": [
    {
      "cell_type": "code",
      "execution_count": 1,
      "metadata": {
        "id": "lzBiJiVeVKDo",
        "colab": {
          "base_uri": "https://localhost:8080/"
        },
        "outputId": "451b9a93-a239-4ef5-ba82-9c1bb2ff4297"
      },
      "outputs": [
        {
          "output_type": "stream",
          "name": "stdout",
          "text": [
            "\u001b[?25l\r\u001b[K     |███████▌                        | 10 kB 23.5 MB/s eta 0:00:01\r\u001b[K     |███████████████                 | 20 kB 25.2 MB/s eta 0:00:01\r\u001b[K     |██████████████████████▍         | 30 kB 30.4 MB/s eta 0:00:01\r\u001b[K     |██████████████████████████████  | 40 kB 25.7 MB/s eta 0:00:01\r\u001b[K     |████████████████████████████████| 43 kB 1.9 MB/s \n",
            "\u001b[?25h"
          ]
        }
      ],
      "source": [
        "!pip install pymysql -q\n",
        "!pip install plotly -q\n",
        "!pip install sqlalchemy -q"
      ]
    },
    {
      "cell_type": "code",
      "execution_count": 2,
      "metadata": {
        "collapsed": true,
        "id": "VbmkYR-UVKDt"
      },
      "outputs": [],
      "source": [
        "import numpy as np\n",
        "import pandas as pd\n",
        "import matplotlib.pyplot as plt\n",
        "import plotly.express as px\n",
        "import plotly.graph_objs as go\n",
        "import datetime\n",
        "\n",
        "# 데이터베이스 연결\n",
        "import sqlalchemy as db\n",
        "import pymysql"
      ]
    },
    {
      "cell_type": "markdown",
      "metadata": {
        "id": "_kuj3pL_VKDu"
      },
      "source": [
        "<br>\n",
        "<br>\n",
        "\n",
        "#### 데이터베이스 연결 및 테이블 콜 함수"
      ]
    },
    {
      "cell_type": "markdown",
      "source": [
        "* 유찰물량 데이터: 2019.01.01 ~\n",
        "* 반입물량 데이터: 2019.01.01 ~\n",
        "* 유가 데이터: 2016.01.01 ~\n",
        "* 기상 데이터: 2016.01.01 ~"
      ],
      "metadata": {
        "id": "ufaetU6Vhbq8"
      }
    },
    {
      "cell_type": "code",
      "source": [
        "# floway_user는 SELECT 권한만 가지고 있음\n",
        "engine = db.create_engine(\n",
        "    '***')\n",
        "\n",
        "metadata = db.MetaData()"
      ],
      "metadata": {
        "id": "iSIgT0oIZmX_"
      },
      "execution_count": 3,
      "outputs": []
    },
    {
      "cell_type": "code",
      "source": [
        "# 10월이 '10' 아닌 '1'로 불러지는 문제 => 해결\n",
        "def select_customs(f_type_nm):\n",
        "\n",
        "    sql = \"\"\"\n",
        "    SELECT date, impWgt\n",
        "      FROM(\n",
        "        SELECT date_format(CONCAT(yr, '-', mont, '-', '01'), '%Y-%m-%d') AS date,\n",
        "            statKor,\n",
        "            impWgt\n",
        "        FROM (\n",
        "            SELECT\n",
        "                  SUBSTR(YEAR, 1,4) AS yr,\n",
        "                  CASE\n",
        "                      WHEN SUBSTR(YEAR, 6,2) = '1' THEN 10\n",
        "                      ELSE SUBSTR(YEAR, 6,2)\n",
        "                  END AS mont,\n",
        "                  statKor,\n",
        "                  impWgt\n",
        "            FROM customs\n",
        "            WHERE statKor = '{0}') AS subtable ) AS subtable2\n",
        "    WHERE DATE(date) between DATE_FORMAT('2016-01-01','%y-%m-%d') and  CURDATE()\n",
        "    \"\"\".format(f_type_nm)\n",
        "\n",
        "    return_body = engine.connect().execute(db.text(sql))\n",
        "    f_rtn = return_body.fetchall()\n",
        "\n",
        "    return f_rtn\n",
        "  \n",
        "def select_oil():\n",
        "\n",
        "    sql = \"\"\"\n",
        "    SELECT o_date, AVG_PRICE\n",
        "    FROM (SELECT o_date,\n",
        "                avg(o_price) AS AVG_PRICE\n",
        "          FROM opinet\n",
        "          GROUP BY o_date) AS SUBTABLE\n",
        "    WHERE DATE(o_date) between DATE_FORMAT('2017-01-01','%y-%m-%d') and  CURDATE()\n",
        "\n",
        "    \"\"\"\n",
        "\n",
        "    return_body = engine.connect().execute(db.text(sql))\n",
        "    f_rtn = return_body.fetchall()\n",
        "\n",
        "    return f_rtn\n",
        "\n",
        "def select_day_qnt_data(f_type_nm, f_name_nm, page):\n",
        "\n",
        "    sql = \"\"\"\n",
        "    SELECT date,\n",
        "          f_type,\n",
        "          f_name,\n",
        "          f_level,\n",
        "          tot_qty\n",
        "    FROM public_data\n",
        "    WHERE f_type = '{0}' AND f_name = '{1}'\n",
        "    AND DATE(date) between DATE_FORMAT('2017-01-01','%y-%m-%d') and  CURDATE()\n",
        "    LIMIT 300\n",
        "    OFFSET {2}\n",
        "    \"\"\".format(f_type_nm, f_name_nm, (int(page)-1)*300)\n",
        "\n",
        "    return_body = engine.connect().execute(db.text(sql))\n",
        "    f_rtn = return_body.fetchall()\n",
        "\n",
        "    return f_rtn\n",
        "\n",
        "def select_yr_qnt_data(f_type_nm):\n",
        "\n",
        "    sql = \"\"\"\n",
        "    SELECT date_format(CONCAT(YEAR(y_date), '-01-01'), '%Y-%m-%d'), \n",
        "        y_f_type,\n",
        "        sum(y_tot_cnt)\n",
        "    FROM yuchal_data \n",
        "    WHERE y_f_type = '{0}'\n",
        "    GROUP BY YEAR(y_date),\n",
        "             y_f_type\n",
        "    \"\"\".format(f_type_nm)\n",
        "\n",
        "    return_body = engine.connect().execute(db.text(sql))\n",
        "    f_rtn = return_body.fetchall()\n",
        "\n",
        "    return f_rtn\n",
        "\n",
        "def select_weather_data(page):\n",
        "\n",
        "    sql = \"\"\"\n",
        "    SELECT tm, \n",
        "          maxTa,\n",
        "          minTa, \n",
        "          sumRn, \n",
        "          avgRhm,\n",
        "          sumSsHr\n",
        "    FROM daily_weather \n",
        "    WHERE stnId = 119 AND \n",
        "    DATE(tm) between DATE_FORMAT('2017-01-01','%y-%m-%d') and  CURDATE()\n",
        "    LIMIT 300\n",
        "    OFFSET {0}\n",
        "    \"\"\".format((int(page)-1)*300)\n",
        "\n",
        "    return_body = engine.connect().execute(db.text(sql))\n",
        "    f_rtn = return_body.fetchall()\n",
        "\n",
        "    return f_rtn\n"
      ],
      "metadata": {
        "id": "SLXMWHt_yWyy"
      },
      "execution_count": 70,
      "outputs": []
    },
    {
      "cell_type": "code",
      "source": [
        "# 잘 불러지는지 확인\n",
        "# pd.DataFrame(select_customs('장미'))  # 날짜포맷 2019-01-01\n",
        "# select_oil() # 한번에 다 불러옴. 날짜포맷 2019-01-01 ~ 현재\n",
        "# pd.DataFrame(select_day_qnt_data('장미','비탈', 1)) # 날짜포맷 2016-01-01\n",
        "# pd.DataFrame(select_weather_data(1)) # 날짜포맷 2016-01-01\n",
        "# pd.DataFrame(select_yr_qnt_data('장미')) # 날짜포맷 2016-01-01\n"
      ],
      "metadata": {
        "id": "n5L1TUjfmFUv"
      },
      "execution_count": null,
      "outputs": []
    },
    {
      "cell_type": "markdown",
      "source": [
        "<br>\n",
        "<br>\n",
        "\n",
        "### 데이터 파이프라인, 전처리 함수"
      ],
      "metadata": {
        "id": "ZD3N3qUApmMV"
      }
    },
    {
      "cell_type": "markdown",
      "source": [
        "**전처리 내용** <br>\n",
        "- 모든 데이터 기록단위를 일간으로 변경\n",
        "- 2019.01.01~2022.05.?? 으로 데이터 기간 확정\n",
        "- weather 결측치 처리 (변수 따라 상이)\n",
        "- 품종별 output에서 결측치 처리 (==0)\n",
        "\n",
        "<br>\n",
        "<br>\n",
        "\n",
        "**데이터 전처리 Summary**\n",
        "\n",
        "|DB 테이블/함수명|기록단위(전)|기록단위(후)|기간(전)|기간(후)|비고|\n",
        "|:----:|:---:|:---:|:---:|:---:|:---|\n",
        "|customs|월간|일간|2016.01~|2017.01.01~||\n",
        "|oil|일간|일간|2016.01.01~|2017.01.01~||\n",
        "|select_day_qnt_data(public)|일간|일간|2016.01.01~|2017.01.01~| 최종단위: f_name </br>output 2개 -> t-2 lag 변수, label 데이터셋|\n",
        "|select_yr_qnt_data(yuchal)|연간|일간|2016.01.04~|2017.01.01~||\n",
        "|weather|일간|일간|2016.01.01~|2017.01.01~|결측치 보정 필요|\n",
        "\n",
        "<br>\n",
        "<br>"
      ],
      "metadata": {
        "id": "iiOS3bnOq5g9"
      }
    },
    {
      "cell_type": "markdown",
      "source": [
        "#### 분할해서 확인"
      ],
      "metadata": {
        "id": "oa7FgPnuBl6L"
      }
    },
    {
      "cell_type": "code",
      "source": [
        "#oil\n",
        "base_df = pd.DataFrame()\n",
        "tmp_df = pd.DataFrame(select_oil())\n",
        "base_df = pd.concat([base_df, tmp_df], axis = 1)\n",
        "base_df.rename(columns={0:\"date\", 1:\"oil\"}, inplace = True)\n",
        "base_df.head()"
      ],
      "metadata": {
        "id": "Fc8s5GItp9pX",
        "colab": {
          "base_uri": "https://localhost:8080/",
          "height": 0
        },
        "outputId": "6bac270c-af3c-4890-b924-b25a106d6f8e"
      },
      "execution_count": 93,
      "outputs": [
        {
          "output_type": "execute_result",
          "data": {
            "text/plain": [
              "         date         oil\n",
              "0  2019-01-01  808.753351\n",
              "1  2019-01-02  808.594431\n",
              "2  2019-01-03  808.237101\n",
              "3  2019-01-04  807.672785\n",
              "4  2019-01-05  807.138581"
            ],
            "text/html": [
              "\n",
              "  <div id=\"df-378de50c-3e1b-4178-9e64-791c48449e15\">\n",
              "    <div class=\"colab-df-container\">\n",
              "      <div>\n",
              "<style scoped>\n",
              "    .dataframe tbody tr th:only-of-type {\n",
              "        vertical-align: middle;\n",
              "    }\n",
              "\n",
              "    .dataframe tbody tr th {\n",
              "        vertical-align: top;\n",
              "    }\n",
              "\n",
              "    .dataframe thead th {\n",
              "        text-align: right;\n",
              "    }\n",
              "</style>\n",
              "<table border=\"1\" class=\"dataframe\">\n",
              "  <thead>\n",
              "    <tr style=\"text-align: right;\">\n",
              "      <th></th>\n",
              "      <th>date</th>\n",
              "      <th>oil</th>\n",
              "    </tr>\n",
              "  </thead>\n",
              "  <tbody>\n",
              "    <tr>\n",
              "      <th>0</th>\n",
              "      <td>2019-01-01</td>\n",
              "      <td>808.753351</td>\n",
              "    </tr>\n",
              "    <tr>\n",
              "      <th>1</th>\n",
              "      <td>2019-01-02</td>\n",
              "      <td>808.594431</td>\n",
              "    </tr>\n",
              "    <tr>\n",
              "      <th>2</th>\n",
              "      <td>2019-01-03</td>\n",
              "      <td>808.237101</td>\n",
              "    </tr>\n",
              "    <tr>\n",
              "      <th>3</th>\n",
              "      <td>2019-01-04</td>\n",
              "      <td>807.672785</td>\n",
              "    </tr>\n",
              "    <tr>\n",
              "      <th>4</th>\n",
              "      <td>2019-01-05</td>\n",
              "      <td>807.138581</td>\n",
              "    </tr>\n",
              "  </tbody>\n",
              "</table>\n",
              "</div>\n",
              "      <button class=\"colab-df-convert\" onclick=\"convertToInteractive('df-378de50c-3e1b-4178-9e64-791c48449e15')\"\n",
              "              title=\"Convert this dataframe to an interactive table.\"\n",
              "              style=\"display:none;\">\n",
              "        \n",
              "  <svg xmlns=\"http://www.w3.org/2000/svg\" height=\"24px\"viewBox=\"0 0 24 24\"\n",
              "       width=\"24px\">\n",
              "    <path d=\"M0 0h24v24H0V0z\" fill=\"none\"/>\n",
              "    <path d=\"M18.56 5.44l.94 2.06.94-2.06 2.06-.94-2.06-.94-.94-2.06-.94 2.06-2.06.94zm-11 1L8.5 8.5l.94-2.06 2.06-.94-2.06-.94L8.5 2.5l-.94 2.06-2.06.94zm10 10l.94 2.06.94-2.06 2.06-.94-2.06-.94-.94-2.06-.94 2.06-2.06.94z\"/><path d=\"M17.41 7.96l-1.37-1.37c-.4-.4-.92-.59-1.43-.59-.52 0-1.04.2-1.43.59L10.3 9.45l-7.72 7.72c-.78.78-.78 2.05 0 2.83L4 21.41c.39.39.9.59 1.41.59.51 0 1.02-.2 1.41-.59l7.78-7.78 2.81-2.81c.8-.78.8-2.07 0-2.86zM5.41 20L4 18.59l7.72-7.72 1.47 1.35L5.41 20z\"/>\n",
              "  </svg>\n",
              "      </button>\n",
              "      \n",
              "  <style>\n",
              "    .colab-df-container {\n",
              "      display:flex;\n",
              "      flex-wrap:wrap;\n",
              "      gap: 12px;\n",
              "    }\n",
              "\n",
              "    .colab-df-convert {\n",
              "      background-color: #E8F0FE;\n",
              "      border: none;\n",
              "      border-radius: 50%;\n",
              "      cursor: pointer;\n",
              "      display: none;\n",
              "      fill: #1967D2;\n",
              "      height: 32px;\n",
              "      padding: 0 0 0 0;\n",
              "      width: 32px;\n",
              "    }\n",
              "\n",
              "    .colab-df-convert:hover {\n",
              "      background-color: #E2EBFA;\n",
              "      box-shadow: 0px 1px 2px rgba(60, 64, 67, 0.3), 0px 1px 3px 1px rgba(60, 64, 67, 0.15);\n",
              "      fill: #174EA6;\n",
              "    }\n",
              "\n",
              "    [theme=dark] .colab-df-convert {\n",
              "      background-color: #3B4455;\n",
              "      fill: #D2E3FC;\n",
              "    }\n",
              "\n",
              "    [theme=dark] .colab-df-convert:hover {\n",
              "      background-color: #434B5C;\n",
              "      box-shadow: 0px 1px 3px 1px rgba(0, 0, 0, 0.15);\n",
              "      filter: drop-shadow(0px 1px 2px rgba(0, 0, 0, 0.3));\n",
              "      fill: #FFFFFF;\n",
              "    }\n",
              "  </style>\n",
              "\n",
              "      <script>\n",
              "        const buttonEl =\n",
              "          document.querySelector('#df-378de50c-3e1b-4178-9e64-791c48449e15 button.colab-df-convert');\n",
              "        buttonEl.style.display =\n",
              "          google.colab.kernel.accessAllowed ? 'block' : 'none';\n",
              "\n",
              "        async function convertToInteractive(key) {\n",
              "          const element = document.querySelector('#df-378de50c-3e1b-4178-9e64-791c48449e15');\n",
              "          const dataTable =\n",
              "            await google.colab.kernel.invokeFunction('convertToInteractive',\n",
              "                                                     [key], {});\n",
              "          if (!dataTable) return;\n",
              "\n",
              "          const docLinkHtml = 'Like what you see? Visit the ' +\n",
              "            '<a target=\"_blank\" href=https://colab.research.google.com/notebooks/data_table.ipynb>data table notebook</a>'\n",
              "            + ' to learn more about interactive tables.';\n",
              "          element.innerHTML = '';\n",
              "          dataTable['output_type'] = 'display_data';\n",
              "          await google.colab.output.renderOutput(dataTable, element);\n",
              "          const docLink = document.createElement('div');\n",
              "          docLink.innerHTML = docLinkHtml;\n",
              "          element.appendChild(docLink);\n",
              "        }\n",
              "      </script>\n",
              "    </div>\n",
              "  </div>\n",
              "  "
            ]
          },
          "metadata": {},
          "execution_count": 93
        }
      ]
    },
    {
      "cell_type": "code",
      "source": [
        "#weather\n",
        "tmp1 = pd.DataFrame()\n",
        "page = 1\n",
        "while 1:\n",
        "  tmp2 = pd.DataFrame(select_weather_data(page))\n",
        "  print(tmp2.head(1))\n",
        "  tmp1 = pd.concat([tmp1, tmp2])\n",
        "  page += 1\n",
        "  if len(tmp2) < 300:\n",
        "    break\n",
        "\n",
        "tmp1.columns = ['date','maxTa','minTa','sumRn','avgRhm','sumSsHr']\n",
        "base_df = base_df.merge(tmp1, how = 'outer', on='date')\n",
        "base_df.head()"
      ],
      "metadata": {
        "id": "-LBPQmAUKbx-",
        "colab": {
          "base_uri": "https://localhost:8080/",
          "height": 0
        },
        "outputId": "ff7931b7-9843-4441-a56d-6bf72b60a122"
      },
      "execution_count": 94,
      "outputs": [
        {
          "output_type": "stream",
          "name": "stdout",
          "text": [
            "            0    1    2   3     4    5\n",
            "0  2019-01-01  0.2 -9.0 NaN  64.8  5.3\n",
            "            0     1    2    3     4    5\n",
            "0  2019-10-28  17.4  6.3  2.7  79.6  7.3\n",
            "            0     1     2   3     4    5\n",
            "0  2020-08-23  30.4  21.7 NaN  83.1  9.1\n",
            "            0     1     2   3     4     5\n",
            "0  2021-06-19  27.4  17.6 NaN  81.4  11.4\n",
            "            0     1    2   3     4     5\n",
            "0  2022-04-15  17.3  7.3 NaN  57.9  11.7\n"
          ]
        },
        {
          "output_type": "execute_result",
          "data": {
            "text/plain": [
              "         date         oil  maxTa  minTa  sumRn  avgRhm  sumSsHr\n",
              "0  2019-01-01  808.753351    0.2   -9.0    NaN    64.8      5.3\n",
              "1  2019-01-02  808.594431    1.5  -10.7    NaN    61.1      9.0\n",
              "2  2019-01-03  808.237101    4.2  -10.1    NaN    52.3      9.1\n",
              "3  2019-01-04  807.672785    4.2   -8.7    NaN    73.9      3.7\n",
              "4  2019-01-05  807.138581    2.8   -6.4    NaN    45.0      8.8"
            ],
            "text/html": [
              "\n",
              "  <div id=\"df-b4b79d75-785f-4e1f-a849-88410b089060\">\n",
              "    <div class=\"colab-df-container\">\n",
              "      <div>\n",
              "<style scoped>\n",
              "    .dataframe tbody tr th:only-of-type {\n",
              "        vertical-align: middle;\n",
              "    }\n",
              "\n",
              "    .dataframe tbody tr th {\n",
              "        vertical-align: top;\n",
              "    }\n",
              "\n",
              "    .dataframe thead th {\n",
              "        text-align: right;\n",
              "    }\n",
              "</style>\n",
              "<table border=\"1\" class=\"dataframe\">\n",
              "  <thead>\n",
              "    <tr style=\"text-align: right;\">\n",
              "      <th></th>\n",
              "      <th>date</th>\n",
              "      <th>oil</th>\n",
              "      <th>maxTa</th>\n",
              "      <th>minTa</th>\n",
              "      <th>sumRn</th>\n",
              "      <th>avgRhm</th>\n",
              "      <th>sumSsHr</th>\n",
              "    </tr>\n",
              "  </thead>\n",
              "  <tbody>\n",
              "    <tr>\n",
              "      <th>0</th>\n",
              "      <td>2019-01-01</td>\n",
              "      <td>808.753351</td>\n",
              "      <td>0.2</td>\n",
              "      <td>-9.0</td>\n",
              "      <td>NaN</td>\n",
              "      <td>64.8</td>\n",
              "      <td>5.3</td>\n",
              "    </tr>\n",
              "    <tr>\n",
              "      <th>1</th>\n",
              "      <td>2019-01-02</td>\n",
              "      <td>808.594431</td>\n",
              "      <td>1.5</td>\n",
              "      <td>-10.7</td>\n",
              "      <td>NaN</td>\n",
              "      <td>61.1</td>\n",
              "      <td>9.0</td>\n",
              "    </tr>\n",
              "    <tr>\n",
              "      <th>2</th>\n",
              "      <td>2019-01-03</td>\n",
              "      <td>808.237101</td>\n",
              "      <td>4.2</td>\n",
              "      <td>-10.1</td>\n",
              "      <td>NaN</td>\n",
              "      <td>52.3</td>\n",
              "      <td>9.1</td>\n",
              "    </tr>\n",
              "    <tr>\n",
              "      <th>3</th>\n",
              "      <td>2019-01-04</td>\n",
              "      <td>807.672785</td>\n",
              "      <td>4.2</td>\n",
              "      <td>-8.7</td>\n",
              "      <td>NaN</td>\n",
              "      <td>73.9</td>\n",
              "      <td>3.7</td>\n",
              "    </tr>\n",
              "    <tr>\n",
              "      <th>4</th>\n",
              "      <td>2019-01-05</td>\n",
              "      <td>807.138581</td>\n",
              "      <td>2.8</td>\n",
              "      <td>-6.4</td>\n",
              "      <td>NaN</td>\n",
              "      <td>45.0</td>\n",
              "      <td>8.8</td>\n",
              "    </tr>\n",
              "  </tbody>\n",
              "</table>\n",
              "</div>\n",
              "      <button class=\"colab-df-convert\" onclick=\"convertToInteractive('df-b4b79d75-785f-4e1f-a849-88410b089060')\"\n",
              "              title=\"Convert this dataframe to an interactive table.\"\n",
              "              style=\"display:none;\">\n",
              "        \n",
              "  <svg xmlns=\"http://www.w3.org/2000/svg\" height=\"24px\"viewBox=\"0 0 24 24\"\n",
              "       width=\"24px\">\n",
              "    <path d=\"M0 0h24v24H0V0z\" fill=\"none\"/>\n",
              "    <path d=\"M18.56 5.44l.94 2.06.94-2.06 2.06-.94-2.06-.94-.94-2.06-.94 2.06-2.06.94zm-11 1L8.5 8.5l.94-2.06 2.06-.94-2.06-.94L8.5 2.5l-.94 2.06-2.06.94zm10 10l.94 2.06.94-2.06 2.06-.94-2.06-.94-.94-2.06-.94 2.06-2.06.94z\"/><path d=\"M17.41 7.96l-1.37-1.37c-.4-.4-.92-.59-1.43-.59-.52 0-1.04.2-1.43.59L10.3 9.45l-7.72 7.72c-.78.78-.78 2.05 0 2.83L4 21.41c.39.39.9.59 1.41.59.51 0 1.02-.2 1.41-.59l7.78-7.78 2.81-2.81c.8-.78.8-2.07 0-2.86zM5.41 20L4 18.59l7.72-7.72 1.47 1.35L5.41 20z\"/>\n",
              "  </svg>\n",
              "      </button>\n",
              "      \n",
              "  <style>\n",
              "    .colab-df-container {\n",
              "      display:flex;\n",
              "      flex-wrap:wrap;\n",
              "      gap: 12px;\n",
              "    }\n",
              "\n",
              "    .colab-df-convert {\n",
              "      background-color: #E8F0FE;\n",
              "      border: none;\n",
              "      border-radius: 50%;\n",
              "      cursor: pointer;\n",
              "      display: none;\n",
              "      fill: #1967D2;\n",
              "      height: 32px;\n",
              "      padding: 0 0 0 0;\n",
              "      width: 32px;\n",
              "    }\n",
              "\n",
              "    .colab-df-convert:hover {\n",
              "      background-color: #E2EBFA;\n",
              "      box-shadow: 0px 1px 2px rgba(60, 64, 67, 0.3), 0px 1px 3px 1px rgba(60, 64, 67, 0.15);\n",
              "      fill: #174EA6;\n",
              "    }\n",
              "\n",
              "    [theme=dark] .colab-df-convert {\n",
              "      background-color: #3B4455;\n",
              "      fill: #D2E3FC;\n",
              "    }\n",
              "\n",
              "    [theme=dark] .colab-df-convert:hover {\n",
              "      background-color: #434B5C;\n",
              "      box-shadow: 0px 1px 3px 1px rgba(0, 0, 0, 0.15);\n",
              "      filter: drop-shadow(0px 1px 2px rgba(0, 0, 0, 0.3));\n",
              "      fill: #FFFFFF;\n",
              "    }\n",
              "  </style>\n",
              "\n",
              "      <script>\n",
              "        const buttonEl =\n",
              "          document.querySelector('#df-b4b79d75-785f-4e1f-a849-88410b089060 button.colab-df-convert');\n",
              "        buttonEl.style.display =\n",
              "          google.colab.kernel.accessAllowed ? 'block' : 'none';\n",
              "\n",
              "        async function convertToInteractive(key) {\n",
              "          const element = document.querySelector('#df-b4b79d75-785f-4e1f-a849-88410b089060');\n",
              "          const dataTable =\n",
              "            await google.colab.kernel.invokeFunction('convertToInteractive',\n",
              "                                                     [key], {});\n",
              "          if (!dataTable) return;\n",
              "\n",
              "          const docLinkHtml = 'Like what you see? Visit the ' +\n",
              "            '<a target=\"_blank\" href=https://colab.research.google.com/notebooks/data_table.ipynb>data table notebook</a>'\n",
              "            + ' to learn more about interactive tables.';\n",
              "          element.innerHTML = '';\n",
              "          dataTable['output_type'] = 'display_data';\n",
              "          await google.colab.output.renderOutput(dataTable, element);\n",
              "          const docLink = document.createElement('div');\n",
              "          docLink.innerHTML = docLinkHtml;\n",
              "          element.appendChild(docLink);\n",
              "        }\n",
              "      </script>\n",
              "    </div>\n",
              "  </div>\n",
              "  "
            ]
          },
          "metadata": {},
          "execution_count": 94
        }
      ]
    },
    {
      "cell_type": "code",
      "source": [
        "#daily tot, lag2\n",
        "tmp1 = pd.DataFrame()\n",
        "page = 1\n",
        "while 1:\n",
        "  tmp2 = pd.DataFrame(select_day_qnt_data('장미','비탈',page))\n",
        "  print(tmp2.head(1))\n",
        "  tmp1 = pd.concat([tmp1, tmp2])\n",
        "  page += 1\n",
        "  if len(tmp2) < 300:\n",
        "    break\n",
        "\n",
        "tmp1.columns = ['date', 'f_type', 'f_name', 'f_level', 'tot_qty']\n",
        "\n",
        "# 여기부터 date, f_type, f_name별 qty 값 합산한 df 로 변경\n",
        "tmp1 = tmp1.groupby([\"date\", \"f_type\", \"f_name\"])['tot_qty'].sum().reset_index()\n",
        "base_df = base_df.merge(tmp1, how = 'outer', on='date')\n",
        "base_df.drop(columns=[\"f_type\", \"f_name\"], inplace = True)\n",
        "base_df.rename(columns={\"tot_qty\":\"label\"}, inplace = True)\n",
        "base_df['daily_qty_lag2'] =  base_df['label'].shift(2)"
      ],
      "metadata": {
        "colab": {
          "base_uri": "https://localhost:8080/"
        },
        "id": "W07m5PgERxF3",
        "outputId": "77ef95cd-ff70-4b5c-9172-5986d9a57d42"
      },
      "execution_count": 95,
      "outputs": [
        {
          "output_type": "stream",
          "name": "stdout",
          "text": [
            "            0   1   2   3     4\n",
            "0  2019-01-02  장미  비탈  상1  1122\n",
            "            0   1   2   3   4\n",
            "0  2019-05-01  장미  비탈  상3  48\n",
            "            0   1   2   3    4\n",
            "0  2019-08-26  장미  비탈  상3  289\n",
            "            0   1   2   3    4\n",
            "0  2019-12-09  장미  비탈  상2  141\n",
            "            0   1   2   3    4\n",
            "0  2020-04-13  장미  비탈  상1  133\n",
            "            0   1   2   3    4\n",
            "0  2020-08-24  장미  비탈  특2  345\n",
            "            0   1   2   3    4\n",
            "0  2020-12-30  장미  비탈  특2  395\n",
            "            0   1   2   3    4\n",
            "0  2021-05-21  장미  비탈  특1  336\n",
            "            0   1   2   3    4\n",
            "0  2021-10-18  장미  비탈  특2  327\n",
            "            0   1   2   3    4\n",
            "0  2022-03-11  장미  비탈  특3  378\n"
          ]
        }
      ]
    },
    {
      "cell_type": "code",
      "source": [
        "# custom\n",
        "tmp1 = pd.DataFrame(select_customs(\"장미\"))\n",
        "tmp1.columns = ['date', 'impWgt']\n",
        "\n",
        "tmp1['impWgt_lag365'] = tmp1['impWgt'].shift(12) # 한 해 전 자료가 앞으로 오게 함\n",
        "tmp1.drop(columns=['impWgt'], inplace = True) # 변수 드랍\n",
        "tmp1 = tmp1.iloc[12:][:] # 2018년 자료 드랍\n",
        "\n",
        "tmp1['date'] = tmp1['date'].astype(\"str\")\n",
        "base_df['date'] = base_df['date'].astype(\"str\")\n",
        "\n",
        "base_df = base_df.set_index('date') #join(행 인덱스를 기준으로 결합)하기 위해 set_index\n",
        "base_df = tmp1.set_index('date')\n",
        "\n",
        "base_df = base_tmp.join(base_df, how = 'outer') #데이터프레임 결합\n",
        "base_df"
      ],
      "metadata": {
        "colab": {
          "base_uri": "https://localhost:8080/",
          "height": 0
        },
        "id": "4HsRK1dsoE52",
        "outputId": "46d3d9dc-f0dc-4d22-ee5a-d69181ce1298"
      },
      "execution_count": 98,
      "outputs": [
        {
          "output_type": "execute_result",
          "data": {
            "text/plain": [
              "                    oil  maxTa  minTa  sumRn  avgRhm  sumSsHr   label  \\\n",
              "date                                                                    \n",
              "2019-01-01   808.753351    0.2   -9.0    NaN    64.8      5.3     NaN   \n",
              "2019-01-02   808.594431    1.5  -10.7    NaN    61.1      9.0  3175.0   \n",
              "2019-01-03   808.237101    4.2  -10.1    NaN    52.3      9.1     NaN   \n",
              "2019-01-04   807.672785    4.2   -8.7    NaN    73.9      3.7  1880.0   \n",
              "2019-01-05   807.138581    2.8   -6.4    NaN    45.0      8.8     NaN   \n",
              "...                 ...    ...    ...    ...     ...      ...     ...   \n",
              "2022-07-14  1477.605214   29.0   22.6    0.8    90.4      3.9     NaN   \n",
              "2022-07-15  1483.236824   29.9   21.9    NaN    81.9     11.0  1044.0   \n",
              "2022-07-16  1464.137929   29.4   22.6    NaN    81.0      9.4     NaN   \n",
              "2022-07-17  1491.623028   30.0   22.1    NaN    79.0      5.8     NaN   \n",
              "2022-07-18  1461.912028    NaN    NaN    NaN     NaN      NaN   648.0   \n",
              "\n",
              "            daily_qty_lag2  impWgt_lag365  \n",
              "date                                       \n",
              "2019-01-01             NaN        29612.0  \n",
              "2019-01-02             NaN            NaN  \n",
              "2019-01-03             NaN            NaN  \n",
              "2019-01-04          3175.0            NaN  \n",
              "2019-01-05             NaN            NaN  \n",
              "...                    ...            ...  \n",
              "2022-07-14             NaN            NaN  \n",
              "2022-07-15           439.0            NaN  \n",
              "2022-07-16             NaN            NaN  \n",
              "2022-07-17          1044.0            NaN  \n",
              "2022-07-18             NaN            NaN  \n",
              "\n",
              "[1295 rows x 9 columns]"
            ],
            "text/html": [
              "\n",
              "  <div id=\"df-ac942783-4966-4fd3-ba55-694f69a62216\">\n",
              "    <div class=\"colab-df-container\">\n",
              "      <div>\n",
              "<style scoped>\n",
              "    .dataframe tbody tr th:only-of-type {\n",
              "        vertical-align: middle;\n",
              "    }\n",
              "\n",
              "    .dataframe tbody tr th {\n",
              "        vertical-align: top;\n",
              "    }\n",
              "\n",
              "    .dataframe thead th {\n",
              "        text-align: right;\n",
              "    }\n",
              "</style>\n",
              "<table border=\"1\" class=\"dataframe\">\n",
              "  <thead>\n",
              "    <tr style=\"text-align: right;\">\n",
              "      <th></th>\n",
              "      <th>oil</th>\n",
              "      <th>maxTa</th>\n",
              "      <th>minTa</th>\n",
              "      <th>sumRn</th>\n",
              "      <th>avgRhm</th>\n",
              "      <th>sumSsHr</th>\n",
              "      <th>label</th>\n",
              "      <th>daily_qty_lag2</th>\n",
              "      <th>impWgt_lag365</th>\n",
              "    </tr>\n",
              "    <tr>\n",
              "      <th>date</th>\n",
              "      <th></th>\n",
              "      <th></th>\n",
              "      <th></th>\n",
              "      <th></th>\n",
              "      <th></th>\n",
              "      <th></th>\n",
              "      <th></th>\n",
              "      <th></th>\n",
              "      <th></th>\n",
              "    </tr>\n",
              "  </thead>\n",
              "  <tbody>\n",
              "    <tr>\n",
              "      <th>2019-01-01</th>\n",
              "      <td>808.753351</td>\n",
              "      <td>0.2</td>\n",
              "      <td>-9.0</td>\n",
              "      <td>NaN</td>\n",
              "      <td>64.8</td>\n",
              "      <td>5.3</td>\n",
              "      <td>NaN</td>\n",
              "      <td>NaN</td>\n",
              "      <td>29612.0</td>\n",
              "    </tr>\n",
              "    <tr>\n",
              "      <th>2019-01-02</th>\n",
              "      <td>808.594431</td>\n",
              "      <td>1.5</td>\n",
              "      <td>-10.7</td>\n",
              "      <td>NaN</td>\n",
              "      <td>61.1</td>\n",
              "      <td>9.0</td>\n",
              "      <td>3175.0</td>\n",
              "      <td>NaN</td>\n",
              "      <td>NaN</td>\n",
              "    </tr>\n",
              "    <tr>\n",
              "      <th>2019-01-03</th>\n",
              "      <td>808.237101</td>\n",
              "      <td>4.2</td>\n",
              "      <td>-10.1</td>\n",
              "      <td>NaN</td>\n",
              "      <td>52.3</td>\n",
              "      <td>9.1</td>\n",
              "      <td>NaN</td>\n",
              "      <td>NaN</td>\n",
              "      <td>NaN</td>\n",
              "    </tr>\n",
              "    <tr>\n",
              "      <th>2019-01-04</th>\n",
              "      <td>807.672785</td>\n",
              "      <td>4.2</td>\n",
              "      <td>-8.7</td>\n",
              "      <td>NaN</td>\n",
              "      <td>73.9</td>\n",
              "      <td>3.7</td>\n",
              "      <td>1880.0</td>\n",
              "      <td>3175.0</td>\n",
              "      <td>NaN</td>\n",
              "    </tr>\n",
              "    <tr>\n",
              "      <th>2019-01-05</th>\n",
              "      <td>807.138581</td>\n",
              "      <td>2.8</td>\n",
              "      <td>-6.4</td>\n",
              "      <td>NaN</td>\n",
              "      <td>45.0</td>\n",
              "      <td>8.8</td>\n",
              "      <td>NaN</td>\n",
              "      <td>NaN</td>\n",
              "      <td>NaN</td>\n",
              "    </tr>\n",
              "    <tr>\n",
              "      <th>...</th>\n",
              "      <td>...</td>\n",
              "      <td>...</td>\n",
              "      <td>...</td>\n",
              "      <td>...</td>\n",
              "      <td>...</td>\n",
              "      <td>...</td>\n",
              "      <td>...</td>\n",
              "      <td>...</td>\n",
              "      <td>...</td>\n",
              "    </tr>\n",
              "    <tr>\n",
              "      <th>2022-07-14</th>\n",
              "      <td>1477.605214</td>\n",
              "      <td>29.0</td>\n",
              "      <td>22.6</td>\n",
              "      <td>0.8</td>\n",
              "      <td>90.4</td>\n",
              "      <td>3.9</td>\n",
              "      <td>NaN</td>\n",
              "      <td>NaN</td>\n",
              "      <td>NaN</td>\n",
              "    </tr>\n",
              "    <tr>\n",
              "      <th>2022-07-15</th>\n",
              "      <td>1483.236824</td>\n",
              "      <td>29.9</td>\n",
              "      <td>21.9</td>\n",
              "      <td>NaN</td>\n",
              "      <td>81.9</td>\n",
              "      <td>11.0</td>\n",
              "      <td>1044.0</td>\n",
              "      <td>439.0</td>\n",
              "      <td>NaN</td>\n",
              "    </tr>\n",
              "    <tr>\n",
              "      <th>2022-07-16</th>\n",
              "      <td>1464.137929</td>\n",
              "      <td>29.4</td>\n",
              "      <td>22.6</td>\n",
              "      <td>NaN</td>\n",
              "      <td>81.0</td>\n",
              "      <td>9.4</td>\n",
              "      <td>NaN</td>\n",
              "      <td>NaN</td>\n",
              "      <td>NaN</td>\n",
              "    </tr>\n",
              "    <tr>\n",
              "      <th>2022-07-17</th>\n",
              "      <td>1491.623028</td>\n",
              "      <td>30.0</td>\n",
              "      <td>22.1</td>\n",
              "      <td>NaN</td>\n",
              "      <td>79.0</td>\n",
              "      <td>5.8</td>\n",
              "      <td>NaN</td>\n",
              "      <td>1044.0</td>\n",
              "      <td>NaN</td>\n",
              "    </tr>\n",
              "    <tr>\n",
              "      <th>2022-07-18</th>\n",
              "      <td>1461.912028</td>\n",
              "      <td>NaN</td>\n",
              "      <td>NaN</td>\n",
              "      <td>NaN</td>\n",
              "      <td>NaN</td>\n",
              "      <td>NaN</td>\n",
              "      <td>648.0</td>\n",
              "      <td>NaN</td>\n",
              "      <td>NaN</td>\n",
              "    </tr>\n",
              "  </tbody>\n",
              "</table>\n",
              "<p>1295 rows × 9 columns</p>\n",
              "</div>\n",
              "      <button class=\"colab-df-convert\" onclick=\"convertToInteractive('df-ac942783-4966-4fd3-ba55-694f69a62216')\"\n",
              "              title=\"Convert this dataframe to an interactive table.\"\n",
              "              style=\"display:none;\">\n",
              "        \n",
              "  <svg xmlns=\"http://www.w3.org/2000/svg\" height=\"24px\"viewBox=\"0 0 24 24\"\n",
              "       width=\"24px\">\n",
              "    <path d=\"M0 0h24v24H0V0z\" fill=\"none\"/>\n",
              "    <path d=\"M18.56 5.44l.94 2.06.94-2.06 2.06-.94-2.06-.94-.94-2.06-.94 2.06-2.06.94zm-11 1L8.5 8.5l.94-2.06 2.06-.94-2.06-.94L8.5 2.5l-.94 2.06-2.06.94zm10 10l.94 2.06.94-2.06 2.06-.94-2.06-.94-.94-2.06-.94 2.06-2.06.94z\"/><path d=\"M17.41 7.96l-1.37-1.37c-.4-.4-.92-.59-1.43-.59-.52 0-1.04.2-1.43.59L10.3 9.45l-7.72 7.72c-.78.78-.78 2.05 0 2.83L4 21.41c.39.39.9.59 1.41.59.51 0 1.02-.2 1.41-.59l7.78-7.78 2.81-2.81c.8-.78.8-2.07 0-2.86zM5.41 20L4 18.59l7.72-7.72 1.47 1.35L5.41 20z\"/>\n",
              "  </svg>\n",
              "      </button>\n",
              "      \n",
              "  <style>\n",
              "    .colab-df-container {\n",
              "      display:flex;\n",
              "      flex-wrap:wrap;\n",
              "      gap: 12px;\n",
              "    }\n",
              "\n",
              "    .colab-df-convert {\n",
              "      background-color: #E8F0FE;\n",
              "      border: none;\n",
              "      border-radius: 50%;\n",
              "      cursor: pointer;\n",
              "      display: none;\n",
              "      fill: #1967D2;\n",
              "      height: 32px;\n",
              "      padding: 0 0 0 0;\n",
              "      width: 32px;\n",
              "    }\n",
              "\n",
              "    .colab-df-convert:hover {\n",
              "      background-color: #E2EBFA;\n",
              "      box-shadow: 0px 1px 2px rgba(60, 64, 67, 0.3), 0px 1px 3px 1px rgba(60, 64, 67, 0.15);\n",
              "      fill: #174EA6;\n",
              "    }\n",
              "\n",
              "    [theme=dark] .colab-df-convert {\n",
              "      background-color: #3B4455;\n",
              "      fill: #D2E3FC;\n",
              "    }\n",
              "\n",
              "    [theme=dark] .colab-df-convert:hover {\n",
              "      background-color: #434B5C;\n",
              "      box-shadow: 0px 1px 3px 1px rgba(0, 0, 0, 0.15);\n",
              "      filter: drop-shadow(0px 1px 2px rgba(0, 0, 0, 0.3));\n",
              "      fill: #FFFFFF;\n",
              "    }\n",
              "  </style>\n",
              "\n",
              "      <script>\n",
              "        const buttonEl =\n",
              "          document.querySelector('#df-ac942783-4966-4fd3-ba55-694f69a62216 button.colab-df-convert');\n",
              "        buttonEl.style.display =\n",
              "          google.colab.kernel.accessAllowed ? 'block' : 'none';\n",
              "\n",
              "        async function convertToInteractive(key) {\n",
              "          const element = document.querySelector('#df-ac942783-4966-4fd3-ba55-694f69a62216');\n",
              "          const dataTable =\n",
              "            await google.colab.kernel.invokeFunction('convertToInteractive',\n",
              "                                                     [key], {});\n",
              "          if (!dataTable) return;\n",
              "\n",
              "          const docLinkHtml = 'Like what you see? Visit the ' +\n",
              "            '<a target=\"_blank\" href=https://colab.research.google.com/notebooks/data_table.ipynb>data table notebook</a>'\n",
              "            + ' to learn more about interactive tables.';\n",
              "          element.innerHTML = '';\n",
              "          dataTable['output_type'] = 'display_data';\n",
              "          await google.colab.output.renderOutput(dataTable, element);\n",
              "          const docLink = document.createElement('div');\n",
              "          docLink.innerHTML = docLinkHtml;\n",
              "          element.appendChild(docLink);\n",
              "        }\n",
              "      </script>\n",
              "    </div>\n",
              "  </div>\n",
              "  "
            ]
          },
          "metadata": {},
          "execution_count": 98
        }
      ]
    },
    {
      "cell_type": "code",
      "source": [
        "# yearly tot\n",
        "tmp1 = pd.DataFrame(select_yr_qnt_data('장미'))\n",
        "tmp1.columns = ['date', 'f_type', 'yr_qty']\n",
        "tmp1['yr_qty_lag365'] = tmp1['yr_qty'].shift(1)\n",
        "tmp1.drop(columns=['f_type', 'yr_qty'], inplace = True)\n",
        "tmp1 = tmp1.iloc[3:][:]\n",
        "tmp1['date'] = tmp1['date'].astype(str)\n",
        "\n",
        "tmp1.set_index('date', inplace = True)\n",
        "\n",
        "base_df = base_df.join(tmp1, how = 'outer') #데이터프레임 결합\n",
        "base_df"
      ],
      "metadata": {
        "colab": {
          "base_uri": "https://localhost:8080/",
          "height": 0
        },
        "id": "W_lh401goLO-",
        "outputId": "2c171f66-2668-4a79-da1e-aa5aa6163a5b"
      },
      "execution_count": 112,
      "outputs": [
        {
          "output_type": "execute_result",
          "data": {
            "text/plain": [
              "                    oil  maxTa  minTa  sumRn  avgRhm  sumSsHr   label  \\\n",
              "date                                                                    \n",
              "2019-01-01   808.753351    0.2   -9.0    NaN    64.8      5.3     NaN   \n",
              "2019-01-02   808.594431    1.5  -10.7    NaN    61.1      9.0  3175.0   \n",
              "2019-01-03   808.237101    4.2  -10.1    NaN    52.3      9.1     NaN   \n",
              "2019-01-04   807.672785    4.2   -8.7    NaN    73.9      3.7  1880.0   \n",
              "2019-01-05   807.138581    2.8   -6.4    NaN    45.0      8.8     NaN   \n",
              "...                 ...    ...    ...    ...     ...      ...     ...   \n",
              "2022-07-14  1477.605214   29.0   22.6    0.8    90.4      3.9     NaN   \n",
              "2022-07-15  1483.236824   29.9   21.9    NaN    81.9     11.0  1044.0   \n",
              "2022-07-16  1464.137929   29.4   22.6    NaN    81.0      9.4     NaN   \n",
              "2022-07-17  1491.623028   30.0   22.1    NaN    79.0      5.8     NaN   \n",
              "2022-07-18  1461.912028    NaN    NaN    NaN     NaN      NaN   648.0   \n",
              "\n",
              "            daily_qty_lag2  impWgt_lag365 yr_qty_lag365  \n",
              "date                                                     \n",
              "2019-01-01             NaN        29612.0       2658413  \n",
              "2019-01-02             NaN            NaN           NaN  \n",
              "2019-01-03             NaN            NaN           NaN  \n",
              "2019-01-04          3175.0            NaN           NaN  \n",
              "2019-01-05             NaN            NaN           NaN  \n",
              "...                    ...            ...           ...  \n",
              "2022-07-14             NaN            NaN           NaN  \n",
              "2022-07-15           439.0            NaN           NaN  \n",
              "2022-07-16             NaN            NaN           NaN  \n",
              "2022-07-17          1044.0            NaN           NaN  \n",
              "2022-07-18             NaN            NaN           NaN  \n",
              "\n",
              "[1295 rows x 10 columns]"
            ],
            "text/html": [
              "\n",
              "  <div id=\"df-faa20e1d-0aab-46ad-a0d7-1f641090d002\">\n",
              "    <div class=\"colab-df-container\">\n",
              "      <div>\n",
              "<style scoped>\n",
              "    .dataframe tbody tr th:only-of-type {\n",
              "        vertical-align: middle;\n",
              "    }\n",
              "\n",
              "    .dataframe tbody tr th {\n",
              "        vertical-align: top;\n",
              "    }\n",
              "\n",
              "    .dataframe thead th {\n",
              "        text-align: right;\n",
              "    }\n",
              "</style>\n",
              "<table border=\"1\" class=\"dataframe\">\n",
              "  <thead>\n",
              "    <tr style=\"text-align: right;\">\n",
              "      <th></th>\n",
              "      <th>oil</th>\n",
              "      <th>maxTa</th>\n",
              "      <th>minTa</th>\n",
              "      <th>sumRn</th>\n",
              "      <th>avgRhm</th>\n",
              "      <th>sumSsHr</th>\n",
              "      <th>label</th>\n",
              "      <th>daily_qty_lag2</th>\n",
              "      <th>impWgt_lag365</th>\n",
              "      <th>yr_qty_lag365</th>\n",
              "    </tr>\n",
              "    <tr>\n",
              "      <th>date</th>\n",
              "      <th></th>\n",
              "      <th></th>\n",
              "      <th></th>\n",
              "      <th></th>\n",
              "      <th></th>\n",
              "      <th></th>\n",
              "      <th></th>\n",
              "      <th></th>\n",
              "      <th></th>\n",
              "      <th></th>\n",
              "    </tr>\n",
              "  </thead>\n",
              "  <tbody>\n",
              "    <tr>\n",
              "      <th>2019-01-01</th>\n",
              "      <td>808.753351</td>\n",
              "      <td>0.2</td>\n",
              "      <td>-9.0</td>\n",
              "      <td>NaN</td>\n",
              "      <td>64.8</td>\n",
              "      <td>5.3</td>\n",
              "      <td>NaN</td>\n",
              "      <td>NaN</td>\n",
              "      <td>29612.0</td>\n",
              "      <td>2658413</td>\n",
              "    </tr>\n",
              "    <tr>\n",
              "      <th>2019-01-02</th>\n",
              "      <td>808.594431</td>\n",
              "      <td>1.5</td>\n",
              "      <td>-10.7</td>\n",
              "      <td>NaN</td>\n",
              "      <td>61.1</td>\n",
              "      <td>9.0</td>\n",
              "      <td>3175.0</td>\n",
              "      <td>NaN</td>\n",
              "      <td>NaN</td>\n",
              "      <td>NaN</td>\n",
              "    </tr>\n",
              "    <tr>\n",
              "      <th>2019-01-03</th>\n",
              "      <td>808.237101</td>\n",
              "      <td>4.2</td>\n",
              "      <td>-10.1</td>\n",
              "      <td>NaN</td>\n",
              "      <td>52.3</td>\n",
              "      <td>9.1</td>\n",
              "      <td>NaN</td>\n",
              "      <td>NaN</td>\n",
              "      <td>NaN</td>\n",
              "      <td>NaN</td>\n",
              "    </tr>\n",
              "    <tr>\n",
              "      <th>2019-01-04</th>\n",
              "      <td>807.672785</td>\n",
              "      <td>4.2</td>\n",
              "      <td>-8.7</td>\n",
              "      <td>NaN</td>\n",
              "      <td>73.9</td>\n",
              "      <td>3.7</td>\n",
              "      <td>1880.0</td>\n",
              "      <td>3175.0</td>\n",
              "      <td>NaN</td>\n",
              "      <td>NaN</td>\n",
              "    </tr>\n",
              "    <tr>\n",
              "      <th>2019-01-05</th>\n",
              "      <td>807.138581</td>\n",
              "      <td>2.8</td>\n",
              "      <td>-6.4</td>\n",
              "      <td>NaN</td>\n",
              "      <td>45.0</td>\n",
              "      <td>8.8</td>\n",
              "      <td>NaN</td>\n",
              "      <td>NaN</td>\n",
              "      <td>NaN</td>\n",
              "      <td>NaN</td>\n",
              "    </tr>\n",
              "    <tr>\n",
              "      <th>...</th>\n",
              "      <td>...</td>\n",
              "      <td>...</td>\n",
              "      <td>...</td>\n",
              "      <td>...</td>\n",
              "      <td>...</td>\n",
              "      <td>...</td>\n",
              "      <td>...</td>\n",
              "      <td>...</td>\n",
              "      <td>...</td>\n",
              "      <td>...</td>\n",
              "    </tr>\n",
              "    <tr>\n",
              "      <th>2022-07-14</th>\n",
              "      <td>1477.605214</td>\n",
              "      <td>29.0</td>\n",
              "      <td>22.6</td>\n",
              "      <td>0.8</td>\n",
              "      <td>90.4</td>\n",
              "      <td>3.9</td>\n",
              "      <td>NaN</td>\n",
              "      <td>NaN</td>\n",
              "      <td>NaN</td>\n",
              "      <td>NaN</td>\n",
              "    </tr>\n",
              "    <tr>\n",
              "      <th>2022-07-15</th>\n",
              "      <td>1483.236824</td>\n",
              "      <td>29.9</td>\n",
              "      <td>21.9</td>\n",
              "      <td>NaN</td>\n",
              "      <td>81.9</td>\n",
              "      <td>11.0</td>\n",
              "      <td>1044.0</td>\n",
              "      <td>439.0</td>\n",
              "      <td>NaN</td>\n",
              "      <td>NaN</td>\n",
              "    </tr>\n",
              "    <tr>\n",
              "      <th>2022-07-16</th>\n",
              "      <td>1464.137929</td>\n",
              "      <td>29.4</td>\n",
              "      <td>22.6</td>\n",
              "      <td>NaN</td>\n",
              "      <td>81.0</td>\n",
              "      <td>9.4</td>\n",
              "      <td>NaN</td>\n",
              "      <td>NaN</td>\n",
              "      <td>NaN</td>\n",
              "      <td>NaN</td>\n",
              "    </tr>\n",
              "    <tr>\n",
              "      <th>2022-07-17</th>\n",
              "      <td>1491.623028</td>\n",
              "      <td>30.0</td>\n",
              "      <td>22.1</td>\n",
              "      <td>NaN</td>\n",
              "      <td>79.0</td>\n",
              "      <td>5.8</td>\n",
              "      <td>NaN</td>\n",
              "      <td>1044.0</td>\n",
              "      <td>NaN</td>\n",
              "      <td>NaN</td>\n",
              "    </tr>\n",
              "    <tr>\n",
              "      <th>2022-07-18</th>\n",
              "      <td>1461.912028</td>\n",
              "      <td>NaN</td>\n",
              "      <td>NaN</td>\n",
              "      <td>NaN</td>\n",
              "      <td>NaN</td>\n",
              "      <td>NaN</td>\n",
              "      <td>648.0</td>\n",
              "      <td>NaN</td>\n",
              "      <td>NaN</td>\n",
              "      <td>NaN</td>\n",
              "    </tr>\n",
              "  </tbody>\n",
              "</table>\n",
              "<p>1295 rows × 10 columns</p>\n",
              "</div>\n",
              "      <button class=\"colab-df-convert\" onclick=\"convertToInteractive('df-faa20e1d-0aab-46ad-a0d7-1f641090d002')\"\n",
              "              title=\"Convert this dataframe to an interactive table.\"\n",
              "              style=\"display:none;\">\n",
              "        \n",
              "  <svg xmlns=\"http://www.w3.org/2000/svg\" height=\"24px\"viewBox=\"0 0 24 24\"\n",
              "       width=\"24px\">\n",
              "    <path d=\"M0 0h24v24H0V0z\" fill=\"none\"/>\n",
              "    <path d=\"M18.56 5.44l.94 2.06.94-2.06 2.06-.94-2.06-.94-.94-2.06-.94 2.06-2.06.94zm-11 1L8.5 8.5l.94-2.06 2.06-.94-2.06-.94L8.5 2.5l-.94 2.06-2.06.94zm10 10l.94 2.06.94-2.06 2.06-.94-2.06-.94-.94-2.06-.94 2.06-2.06.94z\"/><path d=\"M17.41 7.96l-1.37-1.37c-.4-.4-.92-.59-1.43-.59-.52 0-1.04.2-1.43.59L10.3 9.45l-7.72 7.72c-.78.78-.78 2.05 0 2.83L4 21.41c.39.39.9.59 1.41.59.51 0 1.02-.2 1.41-.59l7.78-7.78 2.81-2.81c.8-.78.8-2.07 0-2.86zM5.41 20L4 18.59l7.72-7.72 1.47 1.35L5.41 20z\"/>\n",
              "  </svg>\n",
              "      </button>\n",
              "      \n",
              "  <style>\n",
              "    .colab-df-container {\n",
              "      display:flex;\n",
              "      flex-wrap:wrap;\n",
              "      gap: 12px;\n",
              "    }\n",
              "\n",
              "    .colab-df-convert {\n",
              "      background-color: #E8F0FE;\n",
              "      border: none;\n",
              "      border-radius: 50%;\n",
              "      cursor: pointer;\n",
              "      display: none;\n",
              "      fill: #1967D2;\n",
              "      height: 32px;\n",
              "      padding: 0 0 0 0;\n",
              "      width: 32px;\n",
              "    }\n",
              "\n",
              "    .colab-df-convert:hover {\n",
              "      background-color: #E2EBFA;\n",
              "      box-shadow: 0px 1px 2px rgba(60, 64, 67, 0.3), 0px 1px 3px 1px rgba(60, 64, 67, 0.15);\n",
              "      fill: #174EA6;\n",
              "    }\n",
              "\n",
              "    [theme=dark] .colab-df-convert {\n",
              "      background-color: #3B4455;\n",
              "      fill: #D2E3FC;\n",
              "    }\n",
              "\n",
              "    [theme=dark] .colab-df-convert:hover {\n",
              "      background-color: #434B5C;\n",
              "      box-shadow: 0px 1px 3px 1px rgba(0, 0, 0, 0.15);\n",
              "      filter: drop-shadow(0px 1px 2px rgba(0, 0, 0, 0.3));\n",
              "      fill: #FFFFFF;\n",
              "    }\n",
              "  </style>\n",
              "\n",
              "      <script>\n",
              "        const buttonEl =\n",
              "          document.querySelector('#df-faa20e1d-0aab-46ad-a0d7-1f641090d002 button.colab-df-convert');\n",
              "        buttonEl.style.display =\n",
              "          google.colab.kernel.accessAllowed ? 'block' : 'none';\n",
              "\n",
              "        async function convertToInteractive(key) {\n",
              "          const element = document.querySelector('#df-faa20e1d-0aab-46ad-a0d7-1f641090d002');\n",
              "          const dataTable =\n",
              "            await google.colab.kernel.invokeFunction('convertToInteractive',\n",
              "                                                     [key], {});\n",
              "          if (!dataTable) return;\n",
              "\n",
              "          const docLinkHtml = 'Like what you see? Visit the ' +\n",
              "            '<a target=\"_blank\" href=https://colab.research.google.com/notebooks/data_table.ipynb>data table notebook</a>'\n",
              "            + ' to learn more about interactive tables.';\n",
              "          element.innerHTML = '';\n",
              "          dataTable['output_type'] = 'display_data';\n",
              "          await google.colab.output.renderOutput(dataTable, element);\n",
              "          const docLink = document.createElement('div');\n",
              "          docLink.innerHTML = docLinkHtml;\n",
              "          element.appendChild(docLink);\n",
              "        }\n",
              "      </script>\n",
              "    </div>\n",
              "  </div>\n",
              "  "
            ]
          },
          "metadata": {},
          "execution_count": 112
        }
      ]
    },
    {
      "cell_type": "markdown",
      "source": [
        "#### 데이터 파이프라인 결과"
      ],
      "metadata": {
        "id": "5VkI_ESmBta3"
      }
    },
    {
      "cell_type": "code",
      "source": [
        "def creat_dataset(f_type:str, f_name:str):\n",
        "\n",
        "  base_df = pd.DataFrame()\n",
        "  \n",
        "  # 1. oil 추출 및 병합\n",
        "  tmp_df = pd.DataFrame(select_oil())\n",
        "  base_df = pd.concat([base_df, tmp_df], axis = 1)\n",
        "  base_df.rename(columns={0:\"date\", 1:\"oil\"}, inplace = True)\n",
        "\n",
        "  print(\"the process is done with oil data\")\n",
        "\n",
        "  # 2. weather 추출 및 병합\n",
        "  tmp1 = pd.DataFrame()\n",
        "  page = 1\n",
        "  while 1:\n",
        "    tmp2 = pd.DataFrame(select_weather_data(page))\n",
        "    tmp1 = pd.concat([tmp1, tmp2])\n",
        "    page += 1\n",
        "    if len(tmp2) < 300:\n",
        "      break\n",
        "  tmp1.columns = ['date','maxTa','minTa','sumRn','avgRhm','sumSsHr']\n",
        "\n",
        "  base_df = base_df.merge(tmp1, how = 'outer', on='date')\n",
        "\n",
        "  print(\"the process is done with weather data\")\n",
        "\n",
        "\n",
        "  # 3. 일일 경매유통량 추출 및 label 변수, lag 변수 병합 \n",
        "  # 3.1 label 변수\n",
        "  tmp1 = pd.DataFrame()\n",
        "  page = 1\n",
        "  while 1:\n",
        "    tmp2 = pd.DataFrame(select_day_qnt_data(f_type, f_name, page))\n",
        "    tmp1 = pd.concat([tmp1, tmp2])\n",
        "    page += 1\n",
        "    if len(tmp2) < 300:\n",
        "      break\n",
        "  tmp1.columns = ['date', 'f_type', 'f_name', 'f_level', 'tot_qty']\n",
        "\n",
        "  tmp1 = tmp1.groupby([\"date\", \"f_type\", \"f_name\"])['tot_qty'].sum().reset_index()\n",
        "  base_df = base_df.merge(tmp1, how = 'outer', on='date')\n",
        "  base_df.drop(columns=[\"f_type\", \"f_name\"], inplace = True)\n",
        "  base_df.rename(columns={\"tot_qty\":\"label\"}, inplace = True)\n",
        "\n",
        "  # 3.2 lag 변수\n",
        "  base_df['daily_qty_lag2'] =  base_df['label'].shift(-2)\n",
        "\n",
        "  print(\"the process is done with daily_qnt data\")\n",
        "\n",
        "\n",
        "  # 4. 전년도 월간 수입량\n",
        "  tmp1 = pd.DataFrame(select_customs(f_type))\n",
        "  tmp1.columns = ['date', 'impWgt']\n",
        "\n",
        "  tmp1['impWgt_lag365'] = tmp1['impWgt'].shift(12) # 한 해 전 자료가 앞으로 오게 함\n",
        "  tmp1.drop(columns=['impWgt'], inplace = True) # 변수 드랍\n",
        "  tmp1 = tmp1.iloc[12:][:] # 2016년 자료 12개월(12행) 드랍\n",
        "\n",
        "  tmp1['date'] = tmp1['date'].astype(\"str\")\n",
        "  base_df['date'] = base_df['date'].astype(\"str\")\n",
        "\n",
        "  base_df = base_df.set_index('date') #join(행 인덱스를 기준으로 결합)하기 위해 set_index\n",
        "  tmp1 = tmp1.set_index('date')\n",
        "\n",
        "  base_df = base_df.join(tmp1, how = 'outer') #데이터프레임 결합\n",
        "  \n",
        "  print(\"the process is done with customs data\")\n",
        "\n",
        "  # 5. 전년도 시장 반입량\n",
        "  tmp1 = pd.DataFrame(select_yr_qnt_data(f_type))\n",
        "  tmp1.columns = ['date', 'f_type', 'yr_qty']\n",
        "  tmp1['yr_qty_lag365'] = tmp1['yr_qty'].shift(1)\n",
        "  tmp1.drop(columns=['f_type', 'yr_qty'], inplace = True)\n",
        "  tmp1 = tmp1.iloc[:][1:] # 2016년 자료 1개 드랍\n",
        "  tmp1['date'] = tmp1['date'].astype(str)\n",
        "\n",
        "  tmp1.set_index('date', inplace = True)\n",
        "\n",
        "  base_df = base_df.join(tmp1, how = 'outer') #데이터프레임 결합\n",
        "  print(\"the process is done with yr_qnt data\")\n",
        "\n",
        "  return base_df"
      ],
      "metadata": {
        "id": "UhCPgBXXUUrE"
      },
      "execution_count": 72,
      "outputs": []
    },
    {
      "cell_type": "code",
      "source": [
        "# df_rose_bital = creat_dataset('장미', '비탈')\n",
        "# df_rose_bital"
      ],
      "metadata": {
        "id": "RORhGh9smkpt"
      },
      "execution_count": null,
      "outputs": []
    },
    {
      "cell_type": "markdown",
      "source": [
        "<br>\n",
        "<br>\n",
        "\n",
        "#### 데이터 전처리 파이프라인\n",
        "1. FEATURE\n",
        "  1. 결측치 처리\n",
        "    * oil - 결측치 없음\n",
        "    * weather - 결측치 있는 편\n",
        "        * maxTa(최고온도), minTa(최저온도), avgRhm(평균 상대습도) = 앞선 값으로 채우기\n",
        "        * sumRn(일일 강수량), sumSsHr (합계 일조시간) = 0.001으로\n",
        "    * daily_qnt_lag2 - 장이 열리지 않은 날은 결측치임. 앞선 값으로 FILL\n",
        "    * impWgt_lag365 - 매달 동일 값으로 (전년 수입량)\n",
        "    * yr_qnt_lag365 - 매년 동일 값으로 (전년 유통량)\n",
        "  1. 정규화\n",
        "    * MIN-MAX?\n",
        "    * N(0,1) 정규화?\n",
        "\n",
        "2. LABEL\n",
        "  1. 결측치 처리\n",
        "    * label - 장이 열리지 않은 날 결측치 = 앞선 값으로 FILL\n",
        "  2. 정규화 하지 않음\n",
        "\n",
        "\n"
      ],
      "metadata": {
        "id": "nyCiMWL9m__J"
      }
    },
    {
      "cell_type": "markdown",
      "source": [
        "#### 전처리 파이프라인 함수 3개\n",
        "* fill_na(df) -> df_fillna\n",
        "* split_data_target(df_fillna) -> df_data, df_target\n",
        "  * (중간에 train test split 해줘야함)\n",
        "* feature_transformer(x_train, x_test) -> x_train_transformed, x_test_transformed"
      ],
      "metadata": {
        "id": "yAQ-WP4oIEmC"
      }
    },
    {
      "cell_type": "code",
      "source": [
        "def fill_na(df):\n",
        "\n",
        "  val_dict = {'sumRn':0.001, 'sumSsHr':0.001 }\n",
        "  df.fillna(value = val_dict, inplace = True)\n",
        "\n",
        "  df['maxTa'] = df['maxTa'].fillna(method='ffill')\n",
        "  df['minTa'] = df['minTa'].fillna(method='ffill')\n",
        "  df['avgRhm'] = df['avgRhm'].fillna(method='ffill')\n",
        "  df['label'] = df['label'].fillna(method='ffill')\n",
        "  df['daily_qty_lag2'] = df['daily_qty_lag2'].fillna(method='ffill')\n",
        "  df['impWgt_lag365'] = df['impWgt_lag365'].fillna(method='ffill')\n",
        "  df['yr_qty_lag365'] = df['yr_qty_lag365'].fillna(method='ffill')\n",
        "\n",
        "  #마지막으로 1번째 행 결측치 채우기\n",
        "  df['label'] = df['label'].fillna(method='bfill')\n",
        "  df['daily_qty_lag2'] = df['daily_qty_lag2'].fillna(method='bfill')\n",
        "\n",
        "\n",
        "  # split 위해서 열 순서 변경\n",
        "  df=df[['oil', 'maxTa', 'minTa', 'sumRn', 'avgRhm', 'sumSsHr',\n",
        "       'daily_qty_lag2', 'impWgt_lag365', 'yr_qty_lag365',  'label']]\n",
        "  \n",
        "  return df"
      ],
      "metadata": {
        "id": "PraFSmO6dN01"
      },
      "execution_count": 74,
      "outputs": []
    },
    {
      "cell_type": "code",
      "source": [
        "# df_rose_bital_fillna = fill_na(df_rose_bital)\n",
        "# df_rose_bital_fillna"
      ],
      "metadata": {
        "id": "phQkNTS4vmul"
      },
      "execution_count": null,
      "outputs": []
    },
    {
      "cell_type": "code",
      "source": [
        "def split_data_target(df_fillna):\n",
        "\n",
        "  df_data = df_fillna.drop(columns = ['label'])\n",
        "  df_target = df_fillna[['label']]\n",
        "\n",
        "  return df_data, df_target"
      ],
      "metadata": {
        "id": "bVF-b6nKLpWe"
      },
      "execution_count": 76,
      "outputs": []
    },
    {
      "cell_type": "code",
      "source": [
        "# df_data, df_target = split_data_target(df_rose_bital)\n",
        "# df_data.shape, df_target.shape"
      ],
      "metadata": {
        "id": "ynbMmuAGvrCV"
      },
      "execution_count": null,
      "outputs": []
    },
    {
      "cell_type": "code",
      "source": [
        "from sklearn import model_selection\n",
        "x_train, x_test, y_train, y_test = model_selection.train_test_split(df_data, \n",
        "                                                                    df_target, \n",
        "                                                                    test_size=0.2, \n",
        "                                                                    random_state=1004)"
      ],
      "metadata": {
        "id": "ZLEPOw7Bv38a"
      },
      "execution_count": 78,
      "outputs": []
    },
    {
      "cell_type": "code",
      "source": [
        "from sklearn.preprocessing import StandardScaler, OneHotEncoder\n",
        "from sklearn.compose import ColumnTransformer # preprocessor 만들 때\n",
        "from sklearn.pipeline import Pipeline\n",
        "\n",
        "def feature_transformer(x_train, x_test):\n",
        "\n",
        "  # 숫자형 변수명을 리스트로 모으로 스케일링 인스턴스 생성 (label변수 제외)\n",
        "  numeric_features = list(x_train.columns)\n",
        "  numeric_transformer =StandardScaler()  \n",
        "\n",
        "  # 전처리 도구들 준비하기 : preprocessor라는 이름으로 묶어서\n",
        "  preprocessor = ColumnTransformer(\n",
        "      transformers=[ #(name, transformer, column(s))의 튜플들로 이루어진 리스트\n",
        "        ('num', numeric_transformer, numeric_features)])\n",
        "  \n",
        "  preprocessor_pipe = Pipeline(steps=[('preprocessor', preprocessor)])\n",
        "  preprocessor_pipe.fit(x_train)\n",
        "  x_train_transformed = preprocessor_pipe.transform(x_train)\n",
        "  x_test_transformed = preprocessor_pipe.transform(x_test)\n",
        "\n",
        "  return x_train_transformed, x_test_transformed"
      ],
      "metadata": {
        "id": "b_aQhnNenlNb"
      },
      "execution_count": 79,
      "outputs": []
    },
    {
      "cell_type": "code",
      "source": [
        "# x_train_transformed, x_test_transformed = feature_transformer(x_train, x_test)"
      ],
      "metadata": {
        "id": "2on-oGYhwCpy"
      },
      "execution_count": 80,
      "outputs": []
    },
    {
      "cell_type": "code",
      "source": [
        "# y_train.shape, y_test.shape"
      ],
      "metadata": {
        "id": "s2Z4QGqyw9C0"
      },
      "execution_count": null,
      "outputs": []
    },
    {
      "cell_type": "markdown",
      "source": [
        "<br>\n",
        "<br>\n",
        "\n",
        "### 데이터 읽어들이기"
      ],
      "metadata": {
        "id": "xejJ-yUJdAkk"
      }
    },
    {
      "cell_type": "code",
      "source": [
        "# 꽃 품종, 품명에 따라 데이터 불러오기\n",
        "df = creat_dataset('거베라', '비탈')\n",
        "\n",
        "# 결측치 채우고 data, target 분할\n",
        "df_fillna = fill_na(df)\n",
        "df_data, df_target = split_data_target(df_fillna)\n",
        "\n",
        "# train set, test set  분할\n",
        "from sklearn import model_selection\n",
        "x_train, x_test, y_train, y_test = model_selection.train_test_split(df_data, \n",
        "                                                                    df_target, \n",
        "                                                                    test_size=0.2, \n",
        "                                                                    random_state=1004)\n",
        "\n",
        "# train 과 test 모두 standard scaling (train 기준)\n",
        "x_train_transformed, x_test_transformed = feature_transformer(x_train, x_test)\n"
      ],
      "metadata": {
        "id": "zssP9BszLy31"
      },
      "execution_count": null,
      "outputs": []
    },
    {
      "cell_type": "code",
      "execution_count": 82,
      "metadata": {
        "id": "f0P5BLfMVKED",
        "outputId": "cefbb33a-10fd-456b-c7c0-0af5e84a9eb8",
        "colab": {
          "base_uri": "https://localhost:8080/"
        }
      },
      "outputs": [
        {
          "output_type": "stream",
          "name": "stdout",
          "text": [
            "(1620, 9)\n",
            "(405, 9)\n",
            "(1620, 1)\n",
            "(405, 1)\n"
          ]
        }
      ],
      "source": [
        "print(x_train_transformed.shape)\n",
        "print(x_test_transformed.shape)\n",
        "print(y_train.shape)\n",
        "print(y_test.shape)"
      ]
    },
    {
      "cell_type": "markdown",
      "metadata": {
        "id": "fMHZ6IhQVKEE"
      },
      "source": [
        "<br>\n",
        "<br>\n",
        "\n",
        "### 비어있는 모델 객체 만들고 학습"
      ]
    },
    {
      "cell_type": "code",
      "execution_count": null,
      "metadata": {
        "collapsed": true,
        "id": "T7cSieQhVKEE",
        "colab": {
          "base_uri": "https://localhost:8080/",
          "height": 248
        },
        "outputId": "83118728-4c4b-4f88-874f-83da9d47d9b4"
      },
      "outputs": [
        {
          "output_type": "error",
          "ename": "NameError",
          "evalue": "ignored",
          "traceback": [
            "\u001b[0;31m---------------------------------------------------------------------------\u001b[0m",
            "\u001b[0;31mNameError\u001b[0m                                 Traceback (most recent call last)",
            "\u001b[0;32m<ipython-input-1-901ac6d1b58f>\u001b[0m in \u001b[0;36m<module>\u001b[0;34m()\u001b[0m\n\u001b[1;32m      6\u001b[0m \u001b[0mmodel\u001b[0m \u001b[0;34m=\u001b[0m \u001b[0mSequential\u001b[0m\u001b[0;34m(\u001b[0m\u001b[0;34m)\u001b[0m\u001b[0;34m\u001b[0m\u001b[0;34m\u001b[0m\u001b[0m\n\u001b[1;32m      7\u001b[0m model.add(LSTM(16, \n\u001b[0;32m----> 8\u001b[0;31m                \u001b[0minput_shape\u001b[0m\u001b[0;34m=\u001b[0m\u001b[0;34m(\u001b[0m\u001b[0mtrain_feature\u001b[0m\u001b[0;34m.\u001b[0m\u001b[0mshape\u001b[0m\u001b[0;34m[\u001b[0m\u001b[0;36m1\u001b[0m\u001b[0;34m]\u001b[0m\u001b[0;34m,\u001b[0m \u001b[0mtrain_feature\u001b[0m\u001b[0;34m.\u001b[0m\u001b[0mshape\u001b[0m\u001b[0;34m[\u001b[0m\u001b[0;36m2\u001b[0m\u001b[0;34m]\u001b[0m\u001b[0;34m)\u001b[0m\u001b[0;34m,\u001b[0m\u001b[0;34m\u001b[0m\u001b[0;34m\u001b[0m\u001b[0m\n\u001b[0m\u001b[1;32m      9\u001b[0m                \u001b[0mactivation\u001b[0m\u001b[0;34m=\u001b[0m\u001b[0;34m'relu'\u001b[0m\u001b[0;34m,\u001b[0m\u001b[0;34m\u001b[0m\u001b[0;34m\u001b[0m\u001b[0m\n\u001b[1;32m     10\u001b[0m                return_sequences=False)\n",
            "\u001b[0;31mNameError\u001b[0m: name 'train_feature' is not defined"
          ]
        }
      ],
      "source": [
        "from keras.models import Sequential\n",
        "from keras.layers import Dense\n",
        "from keras.callbacks import EarlyStopping, ModelCheckpoint\n",
        "from keras.layers import LSTM\n",
        "\n",
        "model = Sequential()\n",
        "model.add(LSTM(16, \n",
        "               input_shape=(train_feature.shape[1], train_feature.shape[2]), \n",
        "               activation='relu', \n",
        "               return_sequences=False)\n",
        "          )\n",
        "\n",
        "model.add(Dense(1))"
      ]
    },
    {
      "cell_type": "markdown",
      "metadata": {
        "id": "4AFEGQEvVKEE"
      },
      "source": [
        "<br>\n",
        "<br>\n",
        "\n",
        "#### 모델 객체 학습시키기 (on training data)"
      ]
    },
    {
      "cell_type": "markdown",
      "source": [
        "*   https://codingapple.com/unit/deep-learning-stock-price-ai/\n",
        "*   https://koreascience.kr/article/JAKO201809469053682.pdf\n",
        "* https://dschloe.github.io/python/python_edu/07_deeplearning/deep_learning_lstm/#5-%EB%AA%A8%ED%98%95-%ED%95%99%EC%8A%B5\n",
        "* https://shpk333.tistory.com/entry/MYSQL-SELECT%EB%AC%B8-WHERE-%EC%A1%B0%EA%B1%B4%EC%97%90%EC%84%9C-%EB%82%A0%EC%A7%9CDATE%EB%A5%BC-%ED%86%B5%ED%95%9C-%EA%B2%80%EC%83%89-%EC%82%AC%EC%9A%A9%EB%B2%95-%EB%B0%8F-%EC%98%88%EC%A0%9C\n",
        "* https://seulhee030.tistory.com/51\n",
        "* https://blog.dork94.com/194\n",
        "\n",
        "\n",
        "\n"
      ],
      "metadata": {
        "id": "OjLkx-CtUjH8"
      }
    },
    {
      "cell_type": "code",
      "execution_count": null,
      "metadata": {
        "id": "z6p0TDREVKEF"
      },
      "outputs": [],
      "source": [
        "\n",
        "# Train the model using the training sets\n",
        "\n",
        "model.?(x_train, y_train) # 모델에 데이터를 '맞춰줍니다'"
      ]
    },
    {
      "cell_type": "code",
      "execution_count": null,
      "metadata": {
        "id": "NbAJuPwOVKEF",
        "outputId": "370847b1-db09-4f4a-9c3a-e9347e761baa"
      },
      "outputs": [
        {
          "name": "stdout",
          "output_type": "stream",
          "text": [
            "Coefficients:  [[-0.96814078]]\n"
          ]
        }
      ],
      "source": [
        "print('Coefficients: ', model.?)"
      ]
    },
    {
      "cell_type": "code",
      "execution_count": null,
      "metadata": {
        "id": "T5frGmAjVKEF"
      },
      "outputs": [],
      "source": [
        "print('Intercepts: ', model.?)"
      ]
    },
    {
      "cell_type": "code",
      "execution_count": null,
      "metadata": {
        "id": "86v6e1F1VKEG"
      },
      "outputs": [],
      "source": [
        "# y = ? x + ?"
      ]
    },
    {
      "cell_type": "markdown",
      "metadata": {
        "id": "NJuwk6taVKEG"
      },
      "source": [
        "<br>\n",
        "<br>\n",
        "\n",
        "### 학습이 끝난 모델 테스트하기 (on test data)"
      ]
    },
    {
      "cell_type": "code",
      "execution_count": null,
      "metadata": {
        "id": "1XPMDhXDVKEG"
      },
      "outputs": [],
      "source": [
        "model.predict(x_train) # '예측하다'"
      ]
    },
    {
      "cell_type": "code",
      "execution_count": null,
      "metadata": {
        "id": "gBtl_U5zVKEG",
        "outputId": "bdd532f1-3b80-4e59-da0e-ce1b729e91c7"
      },
      "outputs": [
        {
          "name": "stdout",
          "output_type": "stream",
          "text": [
            "Mean squared error: 37.933978172880295\n"
          ]
        }
      ],
      "source": [
        "# 354개 Train 데이터에 대한 Model 의 Mean squared error \n",
        "print('MSE(Training data) : ', np.mean((model.predict(x_train) - y_train) ** 2))"
      ]
    },
    {
      "cell_type": "code",
      "execution_count": null,
      "metadata": {
        "id": "C62O-E-GVKEG",
        "outputId": "79086a6a-d264-4417-a3c1-bc2fbf76fbf5"
      },
      "outputs": [
        {
          "name": "stdout",
          "output_type": "stream",
          "text": [
            "MSE:  37.9339781729\n"
          ]
        }
      ],
      "source": [
        "# Use this!\n",
        "from sklearn.metrics import ?\n",
        "\n",
        "print('MSE(Training data) : ', ?(model.predict(x_train), y_train))"
      ]
    },
    {
      "cell_type": "code",
      "execution_count": null,
      "metadata": {
        "id": "4GRFv6rWVKEH",
        "outputId": "c831f7ff-da0f-496c-cae2-888d5fd59eb4"
      },
      "outputs": [
        {
          "name": "stdout",
          "output_type": "stream",
          "text": [
            "MSE(Test data) :  39.8171505047\n"
          ]
        }
      ],
      "source": [
        "# 152개 Test 데이터에 대한 Model 의 Mean squared error \n",
        "print('MSE(Test data) : ', ?(model.predict(x_test), y_test))"
      ]
    },
    {
      "cell_type": "code",
      "execution_count": null,
      "metadata": {
        "id": "lnqiFAT7VKEH",
        "outputId": "121d9025-143e-4512-ae2a-122671066ff4"
      },
      "outputs": [
        {
          "data": {
            "text/plain": [
              "6.3100832407143539"
            ]
          },
          "execution_count": 60,
          "metadata": {},
          "output_type": "execute_result"
        }
      ],
      "source": [
        "# Square root of error\n",
        "np.sqrt( ?(model.predict(x_test), y_test) )"
      ]
    },
    {
      "cell_type": "markdown",
      "metadata": {
        "id": "lPtnMW7NVKEH"
      },
      "source": [
        "<br>\n",
        "<br>\n",
        "\n",
        "### 모델 시각화"
      ]
    },
    {
      "cell_type": "code",
      "execution_count": null,
      "metadata": {
        "id": "WaW_pKmZVKEH",
        "outputId": "375c9749-dfe0-41df-ccef-ef058bcedad0"
      },
      "outputs": [
        {
          "data": {
            "image/png": "[encoded data removed]",
            "text/plain": [
              "<matplotlib.figure.Figure at 0xb91b898>"
            ]
          },
          "metadata": {},
          "output_type": "display_data"
        }
      ],
      "source": [
        "plt.figure(figsize=(10, 10))\n",
        "\n",
        "plt.scatter(x_test, y_test, color=\"black\") # Test data\n",
        "plt.scatter(x_train, y_train, color=\"red\", s=1) # Train data\n",
        "\n",
        "plt.plot(x_test, model.predict(x_test), color=\"blue\", linewidth=3) # Fitted line\n",
        "\n",
        "plt.show()"
      ]
    },
    {
      "cell_type": "markdown",
      "metadata": {
        "id": "6XqXBjz6VKEI"
      },
      "source": [
        "<br>\n",
        "<br>\n",
        "\n",
        "#### Practice. 더 좋은 성능을 보이는 Feature 를 찾아보세요!"
      ]
    },
    {
      "cell_type": "code",
      "execution_count": null,
      "metadata": {
        "id": "0s8_jp-BVKEI",
        "outputId": "1c17e9c4-98be-4c72-95c4-8fa496f01d29"
      },
      "outputs": [
        {
          "name": "stdout",
          "output_type": "stream",
          "text": [
            "MSE(Training data) :  37.9339781729\n",
            "MSE(Test data) :  39.8171505047\n"
          ]
        },
        {
          "data": {
            "image/png": "[encoded data removed]",
            "text/plain": [
              "<matplotlib.figure.Figure at 0xb14d9b0>"
            ]
          },
          "metadata": {},
          "output_type": "display_data"
        }
      ],
      "source": [
        "from sklearn import model_selection, linear_model\n",
        "from sklearn.metrics import mean_squared_error\n",
        "\n",
        "# 1. Prepare the data (array!)\n",
        "boston_data = np.array(df_data)\n",
        "boston_target = np.array(df_target)\n",
        "\n",
        "# 2. Feature selection\n",
        "boston_X = boston_data[:, 12:13] \n",
        "boston_Y = boston_target\n",
        "\n",
        "# 3. Train/Test split\n",
        "x_train, x_test, y_train, y_test = model_selection.train_test_split(boston_X, boston_Y, test_size=0.3, random_state=0)\n",
        "\n",
        "# 4. Create model object \n",
        "model = linear_model.LinearRegression()\n",
        "\n",
        "# 5. Train the model \n",
        "model.fit(x_train, y_train)\n",
        "\n",
        "# 6. Test the model\n",
        "print('MSE(Training data) : ', mean_squared_error(model.predict(x_train), y_train))\n",
        "print('MSE(Test data) : ', mean_squared_error(model.predict(x_test), y_test))\n",
        "\n",
        "# 7. Visualize the model\n",
        "plt.figure(figsize=(10, 10))\n",
        "plt.scatter(x_test, y_test, color=\"black\") # Test data\n",
        "plt.scatter(x_train, y_train, color=\"red\", s=1) # Train data\n",
        "plt.plot(x_test, model.predict(x_test), color=\"blue\", linewidth=3) # Fitted line\n",
        "plt.show()"
      ]
    },
    {
      "cell_type": "code",
      "execution_count": null,
      "metadata": {
        "collapsed": true,
        "id": "YGk2uSyVVKEI"
      },
      "outputs": [],
      "source": [
        ""
      ]
    }
  ],
  "metadata": {
    "kernelspec": {
      "display_name": "Python 3.8.8 ('base')",
      "language": "python",
      "name": "python3"
    },
    "language_info": {
      "codemirror_mode": {
        "name": "ipython",
        "version": 3
      },
      "file_extension": ".py",
      "mimetype": "text/x-python",
      "name": "python",
      "nbconvert_exporter": "python",
      "pygments_lexer": "ipython3",
      "version": "3.8.8"
    },
    "vscode": {
      "interpreter": {
        "hash": "ad2bdc8ecc057115af97d19610ffacc2b4e99fae6737bb82f5d7fb13d2f2c186"
      }
    },
    "colab": {
      "name": "data pipeline and modeling.ipynb",
      "provenance": [],
      "collapsed_sections": [
        "oa7FgPnuBl6L",
        "NJuwk6taVKEG",
        "lPtnMW7NVKEH",
        "6XqXBjz6VKEI"
      ]
    }
  },
  "nbformat": 4,
  "nbformat_minor": 0
}